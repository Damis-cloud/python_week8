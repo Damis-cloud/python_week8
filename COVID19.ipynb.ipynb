{
 "cells": [
  {
   "cell_type": "code",
   "execution_count": null,
   "id": "144366a6",
   "metadata": {},
   "outputs": [],
   "source": [
    "import pandas as pd\n",
    "import matplotlib.pyplot as plt\n",
    "import seaborn as sns\n",
    "from datetime import datetime\n",
    "\n",
    "sns.set(style='whitegrid')"
   ]
  },
  {
   "cell_type": "code",
   "execution_count": null,
   "id": "e85fcf3f",
   "metadata": {},
   "outputs": [],
   "source": [
    "# Load the dataset\n",
    "df = pd.read_csv('cleaned_covid_data.csv')\n",
    "df['Date'] = pd.to_datetime(df['Date'])\n",
    "df.head()"
   ]
  },
  {
   "cell_type": "code",
   "execution_count": null,
   "id": "bc011e9a",
   "metadata": {},
   "outputs": [],
   "source": [
    "# Check for missing values\n",
    "df.isnull().sum()"
   ]
  },
  {
   "cell_type": "code",
   "execution_count": null,
   "id": "7f9aa0ca",
   "metadata": {},
   "outputs": [],
   "source": [
    "# Total confirmed cases by WHO Region\n",
    "region_summary = df.groupby('WHO Region')['Confirmed'].sum().sort_values(ascending=False)\n",
    "\n",
    "plt.figure(figsize=(10,6))\n",
    "sns.barplot(x=region_summary.index, y=region_summary.values, palette=\"viridis\")\n",
    "plt.title(\"Total Confirmed COVID-19 Cases by WHO Region\")\n",
    "plt.ylabel(\"Total Confirmed Cases\")\n",
    "plt.xlabel(\"WHO Region\")\n",
    "plt.xticks(rotation=45)\n",
    "plt.tight_layout()\n",
    "plt.show()"
   ]
  },
  {
   "cell_type": "code",
   "execution_count": null,
   "id": "ef08db2b",
   "metadata": {},
   "outputs": [],
   "source": [
    "# Trend of confirmed cases over time\n",
    "date_summary = df.groupby('Date')['Confirmed'].sum()\n",
    "\n",
    "plt.figure(figsize=(12,6))\n",
    "sns.lineplot(x=date_summary.index, y=date_summary.values)\n",
    "plt.title(\"Trend of Confirmed COVID-19 Cases Over Time\")\n",
    "plt.ylabel(\"Total Confirmed Cases\")\n",
    "plt.xlabel(\"Date\")\n",
    "plt.xticks(rotation=45)\n",
    "plt.tight_layout()\n",
    "plt.show()"
   ]
  },
  {
   "cell_type": "code",
   "execution_count": null,
   "id": "c867727e",
   "metadata": {},
   "outputs": [],
   "source": [
    "# Top 10 countries by confirmed cases\n",
    "country_summary = df.groupby('Country/Region')['Confirmed'].sum().sort_values(ascending=False).head(10)\n",
    "\n",
    "plt.figure(figsize=(10,6))\n",
    "sns.barplot(x=country_summary.values, y=country_summary.index, palette=\"magma\")\n",
    "plt.title(\"Top 10 Countries by Total Confirmed Cases\")\n",
    "plt.xlabel(\"Total Confirmed Cases\")\n",
    "plt.ylabel(\"Country/Region\")\n",
    "plt.tight_layout()\n",
    "plt.show()"
   ]
  },
  {
   "cell_type": "markdown",
   "id": "65e0d7d0",
   "metadata": {},
   "source": [
    "## Conclusion\n",
    "- The analysis provided insights into the spread of COVID-19 across WHO regions and countries.\n",
    "- Time-based trends helped identify the rise in confirmed cases globally.\n",
    "- This serves as a basic exploratory analysis which can be expanded with additional data like vaccination, mobility, and testing."
   ]
  }
 ],
 "metadata": {
  "language_info": {
   "name": "python"
  }
 },
 "nbformat": 4,
 "nbformat_minor": 5
}
